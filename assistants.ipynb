{
 "cells": [
  {
   "cell_type": "code",
   "execution_count": 1,
   "metadata": {},
   "outputs": [],
   "source": [
    "from openai import OpenAI"
   ]
  },
  {
   "cell_type": "markdown",
   "metadata": {},
   "source": [
    "### ASSISTANTS:\n",
    "#### Below is an example of how to create a assistant:\n",
    "##### STEP1: CREATE AN ASSISTANT\n",
    "An Assistant represents an entity that can be configured to respond to users’ Messages using several parameters like:\n",
    "\n",
    "Instructions: how the Assistant and model should behave or respond\n",
    "Model: you can specify any GPT-3.5 or GPT-4 models, including fine-tuned models. The Retrieval tool requires gpt-3.5-turbo-1106 and gpt-4-1106-preview models.\n",
    "Tools: the API supports Code Interpreter and REtrieval that are built and hosted by OpenAI.\n",
    "Functions: the API allows you to define custom function signatures, with similar behavior as our function calling feature.\n",
    "In this example, we're creating an Assistant that is a personal math tutor, with the Code Interpreter tool enabled:"
   ]
  },
  {
   "cell_type": "code",
   "execution_count": 2,
   "metadata": {},
   "outputs": [],
   "source": [
    "# Creating an assistant\n",
    "client = OpenAI()\n",
    "assistant = client.beta.assistants.create(\n",
    "    name=\"Math Tutor\",\n",
    "    instructions=\"You are a personal math tutor. Write and run code to answer math questions.\",\n",
    "    tools=[{\"type\": \"code_interpreter\"}],\n",
    "    model=\"gpt-4-1106-preview\"\n",
    ")"
   ]
  },
  {
   "cell_type": "markdown",
   "metadata": {},
   "source": [
    "##### Step 2: Create a Thread\n",
    "A Thread represents a conversation. We recommend creating one Thread per user as soon as the user initiates the conversation. Pass any user-specific context and files in this thread by creating Messages.\n",
    "\n",
    "python\n",
    "\n",
    "python\n",
    "thread = client.beta.threads.create()\n",
    "Threads don’t have a size limit. You can pass as many Messages as you want to a Thread. The API will ensure that requests to the model fit within the maximum context window, using relevant optimization techniques such as truncation.\n",
    "\n",
    "##### Step 3: Add a Message to a Thread\n",
    "A Message contains the user's text, and optionally, any files that the user uploads. Image files aren't supported today, but we plan to add support for them in the coming months."
   ]
  },
  {
   "cell_type": "code",
   "execution_count": 3,
   "metadata": {},
   "outputs": [
    {
     "name": "stdout",
     "output_type": "stream",
     "text": [
      "SyncCursorPage[ThreadMessage](data=[ThreadMessage(id='msg_VuduIf2r8FcHLFgxMctZu8lI', assistant_id=None, content=[MessageContentText(text=Text(annotations=[], value='I need to solve the equation `3x + 11 = 14`. Can you help me?'), type='text')], created_at=1699392061, file_ids=[], metadata={}, object='thread.message', role='user', run_id=None, thread_id='thread_maKAq3drBQEZqzOYymVFu7sC')], object='list', first_id='msg_VuduIf2r8FcHLFgxMctZu8lI', last_id='msg_VuduIf2r8FcHLFgxMctZu8lI', has_more=False)\n"
     ]
    }
   ],
   "source": [
    "# Creating a thread\n",
    "thread = client.beta.threads.create()\n",
    "# Adding message to thread\n",
    "message = client.beta.threads.messages.create(\n",
    "    thread_id=thread.id,\n",
    "    role=\"user\",\n",
    "    content=\"I need to solve the equation `3x + 11 = 14`. Can you help me?\"\n",
    ")\n",
    "# Viewing the thread\n",
    "thread_messages = client.beta.threads.messages.list(thread.id)\n",
    "print(thread_messages)"
   ]
  },
  {
   "cell_type": "markdown",
   "metadata": {},
   "source": [
    "##### Step 4: Run the Assistant\n",
    "For the Assistant to respond to the user message, you need to create a Run. This makes the Assistant read the Thread and decide whether to call tools or simply use the model to best answer the user query. As the run progresses, the assistant appends Messages to the thread with the role=\"assistant\" .\n",
    "\n",
    "You can optionally pass additional instructions to the Assistant while creating the Run:"
   ]
  },
  {
   "cell_type": "code",
   "execution_count": 4,
   "metadata": {},
   "outputs": [],
   "source": [
    "run = client.beta.threads.runs.create(\n",
    "  thread_id=thread.id,\n",
    "  assistant_id=assistant.id,\n",
    "  instructions=\"Please address the user as Jane Doe. The user has a premium account.\"\n",
    ")"
   ]
  },
  {
   "cell_type": "markdown",
   "metadata": {},
   "source": [
    "##### Step 5: Display the Assistant's Response\n",
    "This creates a Run in a queued status.\n",
    "You can periodically retrieve the Run to check on its status to see if it has moved to completed."
   ]
  },
  {
   "cell_type": "code",
   "execution_count": 5,
   "metadata": {},
   "outputs": [
    {
     "name": "stdout",
     "output_type": "stream",
     "text": [
      "in_progress\n"
     ]
    }
   ],
   "source": [
    "run = client.beta.threads.runs.retrieve(\n",
    "  thread_id=thread.id,\n",
    "  run_id=run.id\n",
    ")\n",
    "print(run.status)"
   ]
  },
  {
   "cell_type": "code",
   "execution_count": 6,
   "metadata": {},
   "outputs": [
    {
     "name": "stdout",
     "output_type": "stream",
     "text": [
      "The solution to the equation \\(3x + 11 = 14\\) is \\(x = 1\\).\n"
     ]
    }
   ],
   "source": [
    "messages = client.beta.threads.messages.list(thread_id=thread.id)\n",
    "print(messages.data[0].content[0].text.value)"
   ]
  },
  {
   "cell_type": "markdown",
   "metadata": {},
   "source": [
    "#### To view the steps"
   ]
  },
  {
   "cell_type": "code",
   "execution_count": 14,
   "metadata": {},
   "outputs": [
    {
     "name": "stdout",
     "output_type": "stream",
     "text": [
      "[RunStep(id='step_nQGyl2tYa8qIBRWnB8Nw5mP5', assistant_id='asst_esqZezHqzykAFgkB6kLroloO', cancelled_at=None, completed_at=1699392113, created_at=1699392099, expired_at=None, failed_at=None, last_error=None, metadata=None, object='thread.run.step', run_id='run_ByzOGWlrHEdtovGk42C3rwhQ', status='completed', step_details=MessageCreationStepDetails(message_creation=MessageCreation(message_id='msg_7abEg5qbWfsVY2BSgcMZ5v1N'), type='message_creation'), thread_id='thread_XYbcDUWe61lPDakAXdoh3vBk', type='message_creation', expires_at=None), RunStep(id='step_roEwDKpvtXB63BSrwH9Jduo7', assistant_id='asst_esqZezHqzykAFgkB6kLroloO', cancelled_at=None, completed_at=1699392099, created_at=1699392091, expired_at=None, failed_at=None, last_error=None, metadata=None, object='thread.run.step', run_id='run_ByzOGWlrHEdtovGk42C3rwhQ', status='completed', step_details=ToolCallsStepDetails(tool_calls=[RetrievalToolCall(id='call_wYKc1qCPo9U5Cwx7FQCx1qTC', retrieval={}, type='retrieval')], type='tool_calls'), thread_id='thread_XYbcDUWe61lPDakAXdoh3vBk', type='tool_calls', expires_at=None)]\n"
     ]
    }
   ],
   "source": [
    "run_steps = client.beta.threads.runs.steps.list(\n",
    "    thread_id=thread.id,\n",
    "    run_id=run.id\n",
    ")\n",
    "print(run_steps.data)"
   ]
  },
  {
   "cell_type": "markdown",
   "metadata": {},
   "source": [
    "### Assistant for file"
   ]
  },
  {
   "cell_type": "code",
   "execution_count": 8,
   "metadata": {},
   "outputs": [
    {
     "name": "stdout",
     "output_type": "stream",
     "text": [
      "Name: file\n",
      "Default: None\n",
      "Annotation: FileTypes\n",
      "Kind: KEYWORD_ONLY\n",
      "Name: purpose\n",
      "Default: None\n",
      "Annotation: Literal['fine-tune', 'assistants']\n",
      "Kind: KEYWORD_ONLY\n",
      "Name: extra_headers\n",
      "Default: None\n",
      "Annotation: Headers | None\n",
      "Kind: KEYWORD_ONLY\n",
      "Name: extra_query\n",
      "Default: None\n",
      "Annotation: Query | None\n",
      "Kind: KEYWORD_ONLY\n",
      "Name: extra_body\n",
      "Default: None\n",
      "Annotation: Body | None\n",
      "Kind: KEYWORD_ONLY\n",
      "Name: timeout\n",
      "Default: NOT_GIVEN\n",
      "Annotation: float | httpx.Timeout | None | NotGiven\n",
      "Kind: KEYWORD_ONLY\n"
     ]
    }
   ],
   "source": [
    "import inspect\n",
    "\n",
    "sig = inspect.signature(client.files.create)\n",
    "for param in sig.parameters.values():\n",
    "    print('Name:', param.name)\n",
    "    print('Default:', param.default if param.default is not param.empty else None)\n",
    "    print('Annotation:', param.annotation if param.annotation is not param.empty else None)\n",
    "    print('Kind:', param.kind)"
   ]
  },
  {
   "cell_type": "code",
   "execution_count": 9,
   "metadata": {},
   "outputs": [],
   "source": [
    "# Upload file\n",
    "file = client.files.create(\n",
    "  file=open(\"./example_docs/DarwinVCFinStatements.pdf\", \"rb\"),\n",
    "  purpose='assistants'\n",
    ")\n",
    "\n",
    "# Add file to the assistant\n",
    "assistant = client.beta.assistants.create(\n",
    "  name=\"Data visualizer\",\n",
    "  description=\"You are great at creating beautiful summaries of a pdf file. You analyze the text and tables in the pdf and generate a summary, ensuring to highlight the main themes of the observed file.\",\n",
    "  model=\"gpt-4-1106-preview\",\n",
    "  tools=[{\"type\": \"retrieval\"}],\n",
    "  file_ids=[file.id]\n",
    ")"
   ]
  },
  {
   "cell_type": "code",
   "execution_count": 10,
   "metadata": {},
   "outputs": [],
   "source": [
    "# Creating a thread\n",
    "thread = client.beta.threads.create()\n",
    "# Adding message to thread\n",
    "message = client.beta.threads.messages.create(\n",
    "    thread_id=thread.id,\n",
    "    role=\"user\",\n",
    "    content=\"I have'nt got the time to read the entire document and so would like to generate a concise yet informative summary of the same.\"\n",
    ")"
   ]
  },
  {
   "cell_type": "code",
   "execution_count": 11,
   "metadata": {},
   "outputs": [],
   "source": [
    "run = client.beta.threads.runs.create(\n",
    "  thread_id=thread.id,\n",
    "  assistant_id=assistant.id\n",
    ")"
   ]
  },
  {
   "cell_type": "code",
   "execution_count": 12,
   "metadata": {},
   "outputs": [],
   "source": [
    "run = client.beta.threads.runs.retrieve(\n",
    "  thread_id=thread.id,\n",
    "  run_id=run.id\n",
    ")"
   ]
  },
  {
   "cell_type": "code",
   "execution_count": 13,
   "metadata": {},
   "outputs": [
    {
     "name": "stdout",
     "output_type": "stream",
     "text": [
      "in_progress\n"
     ]
    }
   ],
   "source": [
    "print(run.status)\n",
    "messages = client.beta.threads.messages.list(thread_id=thread.id)\n"
   ]
  },
  {
   "cell_type": "code",
   "execution_count": 20,
   "metadata": {},
   "outputs": [
    {
     "name": "stdout",
     "output_type": "stream",
     "text": [
      "The document provided is the financial statement for Darwin Venture Capital Fund of Funds III L.P., covering the fiscal year ending on December 31, 2018. Below is a comprehensive summary presenting key details:\n",
      "\n",
      "1. **Overview of the Partnership**:\n",
      "   - Darwin Venture Capital Fund of Funds III L.P. was established on October 10, 2012, and will operate until August 24, 2027, unless terminated earlier or extended.\n",
      "   - The partnership's focus is on venture capital-type investments to achieve capital appreciation primarily through investments in other venture capital funds.\n",
      "   - Darwin Ventures III LLC is the general partner, and there are several limited partners【9†source】.\n",
      "\n",
      "2. **Significant Accounting Policies**:\n",
      "   - The financial statements conform to U.S. GAAP with specialized accounting for investment companies.\n",
      "   - They use estimates impacting reported assets, liabilities, revenue, and expenses.\n",
      "   - Investments are primarily in U.S.-based early-stage venture funds, with a maximum management fee of 2.5% of committed capital and up to 30% incentive compensation.\n",
      "   - The fair value of investments is based largely on the NAV as reported by the investee funds' managers or administrators.\n",
      "   - Cash and cash equivalents comprised only of demand deposits, and there were no cash equivalents as of December 31, 2018.\n",
      "   - The partnership is subject to ASC 740 for income taxes and has determined that no provision for income tax is required in the financial statements since the profits and losses are passed to partners.\n",
      "   - Profits and losses from fund investments and expenses are allocated to partners with a specific methodology, prioritizing allocation to cover management fees and expenses first【9†source】.\n",
      "\n",
      "3. **Fair Value Measurements**:\n",
      "   - The fair value is measured following ASC 820, and as a practical expedient, they use NAV per share when it mirrors ASC 946 principles.\n",
      "   - The partnership’s investments are not readily liquidable and will receive liquidating distributions aligned with the partnership’s estimated life plus extensions【13†source】.\n",
      "\n",
      "4. **Management Fee and Related-Party Transactions**:\n",
      "   - An annual management fee of 0.5% of aggregate capital commitments is paid quarterly in advance to the general partner for administering the portfolio.\n",
      "   - All normal operating expenses, as defined in the partnership agreement, are covered by the general partner.\n",
      "   - Management fees paid directly by an affiliate to the general partner will reduce the partnership's management fee, amounting to $294,700 for 2018.\n",
      "   - Total subscribed capital stands at $60,740,000 with $51,325,300 (84.5%) called as of December 31, 2018.\n",
      "   - The general partner and management members individually made capital commitments totaling $4,000,000.\n",
      "   - The partnership has committed to investing a total of $60,700,000 in various venture capital partnerships, with $46,826,950 (77.14%) funded as of the year-end【17†source】.\n",
      "\n",
      "5. **Concentration of Investments**:\n",
      "   - Investment by industry and region is provided, with information technology accounting for a significant share.\n",
      "   - Specific investment objectives for certain funds are listed, and indirect ownership of portfolio companies representing 5% or more of Partners' Capital are identified.\n",
      "\n",
      "6. **Financial Highlights**:\n",
      "   - The limited partners have a cumulative internal rate of return (IRR) of 14.59% through December 31, 2018, down from 16.27% in 2017.\n",
      "   - The net investment loss ratio was (0.83)% and the total expense and incentive allocation ratio was 1.42% for 2018.\n",
      "   - IRR calculations take into account capital contributions, cash, stock distributions, and residual value of capital accounts【17†source】.\n",
      "\n",
      "7. **Indemnification and Subsequent Events**:\n",
      "   - The general partner is indemnified by the partnership; no claims were reported, and the risk of loss is considered remote.\n",
      "   - As of June 26, 2019, an additional $3,037,000 in capital has been called from the limited partners, and no other significant events were noted that would affect the financial statements【17†source】.\n",
      "\n",
      "This summary provides a high-level overview of the partnership's finances and operations. The actual amounts of profits, losses, expenses, and subsequent return to each limited partner could vary based on the timing of the capital transactions.\n"
     ]
    }
   ],
   "source": [
    "print(messages.data[0].content[0].text.value)"
   ]
  },
  {
   "cell_type": "markdown",
   "metadata": {},
   "source": [
    "### Table extractor assistant:\n"
   ]
  },
  {
   "cell_type": "code",
   "execution_count": 87,
   "metadata": {},
   "outputs": [
    {
     "name": "stdout",
     "output_type": "stream",
     "text": [
      "['file-Su8inAIZPw57MdUuI46RFn8T', 'file-OHOAkEKJXLyPGGeJEWvVnaiu']\n"
     ]
    }
   ],
   "source": [
    "import os\n",
    "from openai import OpenAI\n",
    "client = OpenAI()\n",
    "\n",
    "# File list\n",
    "file_dir = \"./example_docs/\"\n",
    "file_list = os.listdir(file_dir)\n",
    "\n",
    "ASSISTANT_INSTRUCTION = \"\"\"\n",
    "                      You are a helpful and intelligent assistant.\n",
    "                      Use the attached documents to answer questions related to them.\n",
    "                      \"\"\"\n",
    "\n",
    "# Upload file\n",
    "file_id = []\n",
    "for file in file_list:\n",
    "  f = client.files.create(\n",
    "  file=open(f\"./example_docs/{file}\", \"rb\"),\n",
    "  purpose='assistants'\n",
    "  )\n",
    "  file_id.append(f.id)\n",
    "\n",
    "print(file_id)"
   ]
  },
  {
   "cell_type": "code",
   "execution_count": 88,
   "metadata": {},
   "outputs": [],
   "source": [
    "# Add file to the assistant\n",
    "assistant = client.beta.assistants.update(\n",
    "  name=\"PDF Table\",\n",
    "  description = \n",
    "  description=ASSISTANT_INSTRUCTION,\n",
    "  model=\"gpt-4-1106-preview\",\n",
    "  tools=[{\"type\": \"code_interpreter\"},{\"type\": \"retrieval\"}],\n",
    "  file_ids=file_id\n",
    ")"
   ]
  },
  {
   "cell_type": "code",
   "execution_count": 81,
   "metadata": {},
   "outputs": [],
   "source": [
    "THREAD_MESSAGE = \"\"\"what sections contain tables related to investment schedule/investment amount etc.\"\"\"\n",
    "\n",
    "# Creating a thread\n",
    "thread = client.beta.threads.create()\n",
    "# Adding message to thread\n",
    "message = client.beta.threads.messages.create(\n",
    "    thread_id=thread.id, role=\"user\", content=THREAD_MESSAGE\n",
    ")"
   ]
  },
  {
   "cell_type": "code",
   "execution_count": 82,
   "metadata": {},
   "outputs": [],
   "source": [
    "run = client.beta.threads.runs.create(\n",
    "  thread_id=thread.id,\n",
    "  assistant_id=assistant.id\n",
    ")"
   ]
  },
  {
   "cell_type": "code",
   "execution_count": 83,
   "metadata": {},
   "outputs": [],
   "source": [
    "import time\n",
    "run = client.beta.threads.runs.retrieve(\n",
    "  thread_id=thread.id,\n",
    "  run_id=run.id\n",
    ")\n"
   ]
  },
  {
   "cell_type": "code",
   "execution_count": 86,
   "metadata": {},
   "outputs": [
    {
     "name": "stdout",
     "output_type": "stream",
     "text": [
      "The document contains information related to investment schedules and amounts in the following sections:\n",
      "\n",
      "1. \"Statement of Net Assets as of December 31, 2018\"\n",
      "   - This section presents the assets and liabilities, including investments in venture funds at estimated fair value and cash equivalents.\n",
      "\n",
      "2. \"Schedule of Portfolio Investments as of December 31, 2018\"\n",
      "   - This schedule details various investments in venture funds with cost, fair value, and percentage of partners' capital for each investment.\n",
      "\n",
      "3. \"Statement of Operations for the year ended December 31, 2018\"\n",
      "   - This statement includes the operating income and expenses, net investment loss, and investment gain/(loss) for the year.\n",
      "\n",
      "4. \"Statement of Changes in Partners' Capital for the year ended December 31, 2018\"\n",
      "   - This part contains a detailed list of balance changes in general and limited partners' capital, including contributed capital, distributions to partners, net investment loss, and net realized and unrealized gain/(loss) on investments for the specified period.\n",
      "\n",
      "5. \"Statement of Cash Flows for the year ended December 31, 2018\"\n",
      "   - The statement of cash flows outlines cash activities related to operating and financing activities, including capital contributions and distributions to partners.\n",
      "\n",
      "These sections cover investment-related financial details such as contributions, distributions, net gains, and cash flows associated with the investment activities of the Darwin Venture Capital Fund of Funds III L.P.\n",
      "[]\n"
     ]
    }
   ],
   "source": [
    "messages = client.beta.threads.messages.list(thread_id=thread.id)\n",
    "print(messages.data[0].content[0].text.value)\n",
    "print(messages.data[0].content[0].text.annotations)"
   ]
  },
  {
   "cell_type": "code",
   "execution_count": 47,
   "metadata": {},
   "outputs": [
    {
     "name": "stdout",
     "output_type": "stream",
     "text": [
      "ThreadMessage(id='msg_ETMBoZY1YWYCtEWyga4d97yx', assistant_id=None, content=[MessageContentText(text=Text(annotations=[], value=\"can you extract more such tables' sources?\"), type='text')], created_at=1699453033, file_ids=[], metadata={}, object='thread.message', role='user', run_id=None, thread_id='thread_qY6sVsajSLo5kXOXmAd9cdIU')\n",
      "queued\n"
     ]
    }
   ],
   "source": [
    "# Adding message to thread\n",
    "message = client.beta.threads.messages.create(\n",
    "    thread_id=thread.id, role=\"user\", content=\"can you extract more such tables' sources?\"\n",
    ")\n",
    "run = client.beta.threads.runs.create(\n",
    "  thread_id=thread.id,\n",
    "  assistant_id=assistant.id\n",
    ")\n",
    "messages2 = client.beta.threads.messages.list(thread_id=thread.id)\n",
    "print(messages2.data[0])\n",
    "print(run.status)"
   ]
  }
 ],
 "metadata": {
  "kernelspec": {
   "display_name": "test",
   "language": "python",
   "name": "python3"
  },
  "language_info": {
   "codemirror_mode": {
    "name": "ipython",
    "version": 3
   },
   "file_extension": ".py",
   "mimetype": "text/x-python",
   "name": "python",
   "nbconvert_exporter": "python",
   "pygments_lexer": "ipython3",
   "version": "3.10.0"
  }
 },
 "nbformat": 4,
 "nbformat_minor": 2
}
